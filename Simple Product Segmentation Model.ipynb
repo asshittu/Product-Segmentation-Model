{
 "cells": [
  {
   "cell_type": "code",
   "execution_count": 85,
   "id": "99bb2eb3",
   "metadata": {},
   "outputs": [],
   "source": [
    "import pandas as pd\n",
    "import numpy as np\n",
    "from sklearn.cluster import KMeans\n",
    "from sklearn.preprocessing import StandardScaler\n",
    "import matplotlib.pyplot as plt"
   ]
  },
  {
   "cell_type": "code",
   "execution_count": 86,
   "id": "b02dd0b2",
   "metadata": {},
   "outputs": [],
   "source": [
    "# Load the sales dataset\n",
    "sales_data = pd.read_csv('sales_dataset.csv')"
   ]
  },
  {
   "cell_type": "code",
   "execution_count": 87,
   "id": "47fe870e",
   "metadata": {},
   "outputs": [],
   "source": [
    "# Make a copy of dataset for analysis\n",
    "sales_data2 = sales_data.copy()"
   ]
  },
  {
   "cell_type": "markdown",
   "id": "92a4e9d9",
   "metadata": {},
   "source": [
    "## Exploratory Analysis"
   ]
  },
  {
   "cell_type": "code",
   "execution_count": 88,
   "id": "e1e4358b",
   "metadata": {},
   "outputs": [
    {
     "data": {
      "text/html": [
       "<div>\n",
       "<style scoped>\n",
       "    .dataframe tbody tr th:only-of-type {\n",
       "        vertical-align: middle;\n",
       "    }\n",
       "\n",
       "    .dataframe tbody tr th {\n",
       "        vertical-align: top;\n",
       "    }\n",
       "\n",
       "    .dataframe thead th {\n",
       "        text-align: right;\n",
       "    }\n",
       "</style>\n",
       "<table border=\"1\" class=\"dataframe\">\n",
       "  <thead>\n",
       "    <tr style=\"text-align: right;\">\n",
       "      <th></th>\n",
       "      <th>order_date</th>\n",
       "      <th>order_number</th>\n",
       "      <th>customer_id</th>\n",
       "      <th>customer_name</th>\n",
       "      <th>zipcode</th>\n",
       "      <th>city</th>\n",
       "      <th>state_id</th>\n",
       "      <th>state_name</th>\n",
       "      <th>product_code</th>\n",
       "      <th>product_name</th>\n",
       "      <th>category</th>\n",
       "      <th>unit_price</th>\n",
       "      <th>unit_profit</th>\n",
       "      <th>quantity</th>\n",
       "      <th>revenue</th>\n",
       "      <th>profit</th>\n",
       "      <th>discount_percentage</th>\n",
       "      <th>discount_amount</th>\n",
       "      <th>lead_time_weeks</th>\n",
       "    </tr>\n",
       "  </thead>\n",
       "  <tbody>\n",
       "    <tr>\n",
       "      <th>0</th>\n",
       "      <td>2019-11-13</td>\n",
       "      <td>Ord-3255406</td>\n",
       "      <td>cust-00004673</td>\n",
       "      <td>Ariana Nixon</td>\n",
       "      <td>32162</td>\n",
       "      <td>The Villages</td>\n",
       "      <td>FL</td>\n",
       "      <td>Florida</td>\n",
       "      <td>Nut-48306</td>\n",
       "      <td>Macadamia Style 5 Raw 11.34kg Bag</td>\n",
       "      <td>Nuts</td>\n",
       "      <td>26.26</td>\n",
       "      <td>9.19</td>\n",
       "      <td>3</td>\n",
       "      <td>78.77</td>\n",
       "      <td>27.57</td>\n",
       "      <td>0.0</td>\n",
       "      <td>0.0</td>\n",
       "      <td>2</td>\n",
       "    </tr>\n",
       "    <tr>\n",
       "      <th>1</th>\n",
       "      <td>2016-04-06</td>\n",
       "      <td>Ord-6058810</td>\n",
       "      <td>cust-00038703</td>\n",
       "      <td>Mohammad Esparza</td>\n",
       "      <td>80123</td>\n",
       "      <td>Littleton</td>\n",
       "      <td>CO</td>\n",
       "      <td>Colorado</td>\n",
       "      <td>Nut-48306</td>\n",
       "      <td>Macadamia Style 5 Raw 11.34kg Bag</td>\n",
       "      <td>Nuts</td>\n",
       "      <td>26.26</td>\n",
       "      <td>9.19</td>\n",
       "      <td>1</td>\n",
       "      <td>26.26</td>\n",
       "      <td>9.19</td>\n",
       "      <td>0.0</td>\n",
       "      <td>0.0</td>\n",
       "      <td>2</td>\n",
       "    </tr>\n",
       "    <tr>\n",
       "      <th>2</th>\n",
       "      <td>2019-08-15</td>\n",
       "      <td>Ord-1857958</td>\n",
       "      <td>cust-00106675</td>\n",
       "      <td>Jada Porter</td>\n",
       "      <td>55433</td>\n",
       "      <td>Minneapolis</td>\n",
       "      <td>MN</td>\n",
       "      <td>Minnesota</td>\n",
       "      <td>Nut-48306</td>\n",
       "      <td>Macadamia Style 5 Raw 11.34kg Bag</td>\n",
       "      <td>Nuts</td>\n",
       "      <td>26.26</td>\n",
       "      <td>9.19</td>\n",
       "      <td>4</td>\n",
       "      <td>105.02</td>\n",
       "      <td>36.76</td>\n",
       "      <td>0.0</td>\n",
       "      <td>0.0</td>\n",
       "      <td>2</td>\n",
       "    </tr>\n",
       "    <tr>\n",
       "      <th>3</th>\n",
       "      <td>2019-10-01</td>\n",
       "      <td>Ord-8598538</td>\n",
       "      <td>cust-00188381</td>\n",
       "      <td>Ari Mcgrath</td>\n",
       "      <td>36201</td>\n",
       "      <td>Anniston</td>\n",
       "      <td>AL</td>\n",
       "      <td>Alabama</td>\n",
       "      <td>Nut-48306</td>\n",
       "      <td>Macadamia Style 5 Raw 11.34kg Bag</td>\n",
       "      <td>Nuts</td>\n",
       "      <td>26.26</td>\n",
       "      <td>9.19</td>\n",
       "      <td>3</td>\n",
       "      <td>78.77</td>\n",
       "      <td>27.57</td>\n",
       "      <td>0.0</td>\n",
       "      <td>0.0</td>\n",
       "      <td>2</td>\n",
       "    </tr>\n",
       "    <tr>\n",
       "      <th>4</th>\n",
       "      <td>2016-07-24</td>\n",
       "      <td>Ord-3416282</td>\n",
       "      <td>cust-00213804</td>\n",
       "      <td>Kaitlynn Watkins</td>\n",
       "      <td>46143</td>\n",
       "      <td>Greenwood</td>\n",
       "      <td>IN</td>\n",
       "      <td>Indiana</td>\n",
       "      <td>Nut-48306</td>\n",
       "      <td>Macadamia Style 5 Raw 11.34kg Bag</td>\n",
       "      <td>Nuts</td>\n",
       "      <td>26.26</td>\n",
       "      <td>9.19</td>\n",
       "      <td>4</td>\n",
       "      <td>105.02</td>\n",
       "      <td>36.76</td>\n",
       "      <td>0.0</td>\n",
       "      <td>0.0</td>\n",
       "      <td>2</td>\n",
       "    </tr>\n",
       "  </tbody>\n",
       "</table>\n",
       "</div>"
      ],
      "text/plain": [
       "   order_date order_number    customer_id     customer_name  zipcode  \\\n",
       "0  2019-11-13  Ord-3255406  cust-00004673      Ariana Nixon    32162   \n",
       "1  2016-04-06  Ord-6058810  cust-00038703  Mohammad Esparza    80123   \n",
       "2  2019-08-15  Ord-1857958  cust-00106675       Jada Porter    55433   \n",
       "3  2019-10-01  Ord-8598538  cust-00188381       Ari Mcgrath    36201   \n",
       "4  2016-07-24  Ord-3416282  cust-00213804  Kaitlynn Watkins    46143   \n",
       "\n",
       "           city state_id state_name product_code  \\\n",
       "0  The Villages       FL    Florida    Nut-48306   \n",
       "1     Littleton       CO   Colorado    Nut-48306   \n",
       "2   Minneapolis       MN  Minnesota    Nut-48306   \n",
       "3      Anniston       AL    Alabama    Nut-48306   \n",
       "4     Greenwood       IN    Indiana    Nut-48306   \n",
       "\n",
       "                        product_name category  unit_price  unit_profit  \\\n",
       "0  Macadamia Style 5 Raw 11.34kg Bag     Nuts       26.26         9.19   \n",
       "1  Macadamia Style 5 Raw 11.34kg Bag     Nuts       26.26         9.19   \n",
       "2  Macadamia Style 5 Raw 11.34kg Bag     Nuts       26.26         9.19   \n",
       "3  Macadamia Style 5 Raw 11.34kg Bag     Nuts       26.26         9.19   \n",
       "4  Macadamia Style 5 Raw 11.34kg Bag     Nuts       26.26         9.19   \n",
       "\n",
       "   quantity  revenue  profit  discount_percentage  discount_amount  \\\n",
       "0         3    78.77   27.57                  0.0              0.0   \n",
       "1         1    26.26    9.19                  0.0              0.0   \n",
       "2         4   105.02   36.76                  0.0              0.0   \n",
       "3         3    78.77   27.57                  0.0              0.0   \n",
       "4         4   105.02   36.76                  0.0              0.0   \n",
       "\n",
       "   lead_time_weeks  \n",
       "0                2  \n",
       "1                2  \n",
       "2                2  \n",
       "3                2  \n",
       "4                2  "
      ]
     },
     "execution_count": 88,
     "metadata": {},
     "output_type": "execute_result"
    }
   ],
   "source": [
    "# Viewing the Data\n",
    "sales_data2.head()"
   ]
  },
  {
   "cell_type": "code",
   "execution_count": 89,
   "id": "37355165",
   "metadata": {},
   "outputs": [
    {
     "data": {
      "text/plain": [
       "order_date              object\n",
       "order_number            object\n",
       "customer_id             object\n",
       "customer_name           object\n",
       "zipcode                  int64\n",
       "city                    object\n",
       "state_id                object\n",
       "state_name              object\n",
       "product_code            object\n",
       "product_name            object\n",
       "category                object\n",
       "unit_price             float64\n",
       "unit_profit            float64\n",
       "quantity                 int64\n",
       "revenue                float64\n",
       "profit                 float64\n",
       "discount_percentage    float64\n",
       "discount_amount        float64\n",
       "lead_time_weeks          int64\n",
       "dtype: object"
      ]
     },
     "execution_count": 89,
     "metadata": {},
     "output_type": "execute_result"
    }
   ],
   "source": [
    "# Checking datatypes of each column\n",
    "sales_data2.dtypes"
   ]
  },
  {
   "cell_type": "code",
   "execution_count": 90,
   "id": "444b84ac",
   "metadata": {},
   "outputs": [
    {
     "data": {
      "text/html": [
       "<div>\n",
       "<style scoped>\n",
       "    .dataframe tbody tr th:only-of-type {\n",
       "        vertical-align: middle;\n",
       "    }\n",
       "\n",
       "    .dataframe tbody tr th {\n",
       "        vertical-align: top;\n",
       "    }\n",
       "\n",
       "    .dataframe thead th {\n",
       "        text-align: right;\n",
       "    }\n",
       "</style>\n",
       "<table border=\"1\" class=\"dataframe\">\n",
       "  <thead>\n",
       "    <tr style=\"text-align: right;\">\n",
       "      <th></th>\n",
       "      <th>zipcode</th>\n",
       "      <th>unit_price</th>\n",
       "      <th>unit_profit</th>\n",
       "      <th>quantity</th>\n",
       "      <th>revenue</th>\n",
       "      <th>profit</th>\n",
       "      <th>discount_percentage</th>\n",
       "      <th>discount_amount</th>\n",
       "      <th>lead_time_weeks</th>\n",
       "    </tr>\n",
       "  </thead>\n",
       "  <tbody>\n",
       "    <tr>\n",
       "      <th>count</th>\n",
       "      <td>120000.000000</td>\n",
       "      <td>120000.000000</td>\n",
       "      <td>120000.000000</td>\n",
       "      <td>120000.000000</td>\n",
       "      <td>120000.000000</td>\n",
       "      <td>120000.000000</td>\n",
       "      <td>120000.000000</td>\n",
       "      <td>120000.000000</td>\n",
       "      <td>120000.000000</td>\n",
       "    </tr>\n",
       "    <tr>\n",
       "      <th>mean</th>\n",
       "      <td>52900.644142</td>\n",
       "      <td>30.881986</td>\n",
       "      <td>12.177759</td>\n",
       "      <td>2.494700</td>\n",
       "      <td>75.143118</td>\n",
       "      <td>28.488434</td>\n",
       "      <td>0.024401</td>\n",
       "      <td>1.888474</td>\n",
       "      <td>1.891317</td>\n",
       "    </tr>\n",
       "    <tr>\n",
       "      <th>std</th>\n",
       "      <td>30931.138697</td>\n",
       "      <td>7.629023</td>\n",
       "      <td>3.554572</td>\n",
       "      <td>1.117407</td>\n",
       "      <td>39.631622</td>\n",
       "      <td>16.538022</td>\n",
       "      <td>0.058018</td>\n",
       "      <td>5.170910</td>\n",
       "      <td>1.287887</td>\n",
       "    </tr>\n",
       "    <tr>\n",
       "      <th>min</th>\n",
       "      <td>602.000000</td>\n",
       "      <td>11.920000</td>\n",
       "      <td>4.170000</td>\n",
       "      <td>1.000000</td>\n",
       "      <td>9.530000</td>\n",
       "      <td>1.790000</td>\n",
       "      <td>0.000000</td>\n",
       "      <td>0.000000</td>\n",
       "      <td>0.000000</td>\n",
       "    </tr>\n",
       "    <tr>\n",
       "      <th>25%</th>\n",
       "      <td>27910.000000</td>\n",
       "      <td>26.440000</td>\n",
       "      <td>9.770000</td>\n",
       "      <td>1.000000</td>\n",
       "      <td>38.360000</td>\n",
       "      <td>14.790000</td>\n",
       "      <td>0.000000</td>\n",
       "      <td>0.000000</td>\n",
       "      <td>1.000000</td>\n",
       "    </tr>\n",
       "    <tr>\n",
       "      <th>50%</th>\n",
       "      <td>49301.000000</td>\n",
       "      <td>30.970000</td>\n",
       "      <td>11.900000</td>\n",
       "      <td>2.000000</td>\n",
       "      <td>71.420000</td>\n",
       "      <td>25.490000</td>\n",
       "      <td>0.000000</td>\n",
       "      <td>0.000000</td>\n",
       "      <td>2.000000</td>\n",
       "    </tr>\n",
       "    <tr>\n",
       "      <th>75%</th>\n",
       "      <td>83445.000000</td>\n",
       "      <td>36.340000</td>\n",
       "      <td>14.920000</td>\n",
       "      <td>3.000000</td>\n",
       "      <td>104.720000</td>\n",
       "      <td>38.660000</td>\n",
       "      <td>0.000000</td>\n",
       "      <td>0.000000</td>\n",
       "      <td>3.000000</td>\n",
       "    </tr>\n",
       "    <tr>\n",
       "      <th>max</th>\n",
       "      <td>99801.000000</td>\n",
       "      <td>47.490000</td>\n",
       "      <td>21.270000</td>\n",
       "      <td>4.000000</td>\n",
       "      <td>189.950000</td>\n",
       "      <td>85.090000</td>\n",
       "      <td>0.200000</td>\n",
       "      <td>37.990000</td>\n",
       "      <td>4.000000</td>\n",
       "    </tr>\n",
       "  </tbody>\n",
       "</table>\n",
       "</div>"
      ],
      "text/plain": [
       "             zipcode     unit_price    unit_profit       quantity  \\\n",
       "count  120000.000000  120000.000000  120000.000000  120000.000000   \n",
       "mean    52900.644142      30.881986      12.177759       2.494700   \n",
       "std     30931.138697       7.629023       3.554572       1.117407   \n",
       "min       602.000000      11.920000       4.170000       1.000000   \n",
       "25%     27910.000000      26.440000       9.770000       1.000000   \n",
       "50%     49301.000000      30.970000      11.900000       2.000000   \n",
       "75%     83445.000000      36.340000      14.920000       3.000000   \n",
       "max     99801.000000      47.490000      21.270000       4.000000   \n",
       "\n",
       "             revenue         profit  discount_percentage  discount_amount  \\\n",
       "count  120000.000000  120000.000000        120000.000000    120000.000000   \n",
       "mean       75.143118      28.488434             0.024401         1.888474   \n",
       "std        39.631622      16.538022             0.058018         5.170910   \n",
       "min         9.530000       1.790000             0.000000         0.000000   \n",
       "25%        38.360000      14.790000             0.000000         0.000000   \n",
       "50%        71.420000      25.490000             0.000000         0.000000   \n",
       "75%       104.720000      38.660000             0.000000         0.000000   \n",
       "max       189.950000      85.090000             0.200000        37.990000   \n",
       "\n",
       "       lead_time_weeks  \n",
       "count    120000.000000  \n",
       "mean          1.891317  \n",
       "std           1.287887  \n",
       "min           0.000000  \n",
       "25%           1.000000  \n",
       "50%           2.000000  \n",
       "75%           3.000000  \n",
       "max           4.000000  "
      ]
     },
     "execution_count": 90,
     "metadata": {},
     "output_type": "execute_result"
    }
   ],
   "source": [
    "# Summary Statistics of the data\n",
    "sales_data2.describe()"
   ]
  },
  {
   "cell_type": "code",
   "execution_count": 91,
   "id": "9c30df6c",
   "metadata": {},
   "outputs": [
    {
     "data": {
      "text/plain": [
       "(120000, 19)"
      ]
     },
     "execution_count": 91,
     "metadata": {},
     "output_type": "execute_result"
    }
   ],
   "source": [
    "# Number of rows and columns (x and y axis)\n",
    "sales_data2.shape"
   ]
  },
  {
   "cell_type": "code",
   "execution_count": 92,
   "id": "e2ebbb4b",
   "metadata": {},
   "outputs": [
    {
     "data": {
      "text/plain": [
       "order_date             0\n",
       "order_number           0\n",
       "customer_id            0\n",
       "customer_name          0\n",
       "zipcode                0\n",
       "city                   0\n",
       "state_id               0\n",
       "state_name             0\n",
       "product_code           0\n",
       "product_name           0\n",
       "category               0\n",
       "unit_price             0\n",
       "unit_profit            0\n",
       "quantity               0\n",
       "revenue                0\n",
       "profit                 0\n",
       "discount_percentage    0\n",
       "discount_amount        0\n",
       "lead_time_weeks        0\n",
       "dtype: int64"
      ]
     },
     "execution_count": 92,
     "metadata": {},
     "output_type": "execute_result"
    }
   ],
   "source": [
    "# Number of missing values in columns\n",
    "sales_data2.isnull().sum()"
   ]
  },
  {
   "cell_type": "markdown",
   "id": "0f19f91b",
   "metadata": {},
   "source": [
    "## Feature Engineering\n",
    "Selecting key Features such as unit_price, unit_profit, quantity, revenue, and profit to capture product sales characteristics for clustering"
   ]
  },
  {
   "cell_type": "code",
   "execution_count": 93,
   "id": "48ba047d",
   "metadata": {},
   "outputs": [],
   "source": [
    "# Defining the features for clustering\n",
    "features = ['unit_price', 'unit_profit', 'quantity', 'revenue', 'profit']"
   ]
  },
  {
   "cell_type": "code",
   "execution_count": 94,
   "id": "90cf0d39",
   "metadata": {},
   "outputs": [],
   "source": [
    "# Standardize the features to have mean=0 and std=1\n",
    "scaler = StandardScaler()\n",
    "scaled_data = scaler.fit_transform(sales_data[features])"
   ]
  },
  {
   "cell_type": "markdown",
   "id": "36ea4cd8",
   "metadata": {},
   "source": [
    "## Clustering Analysis\n",
    "I'm employing K-Means clustering to group the products based on their sales characteristics"
   ]
  },
  {
   "cell_type": "code",
   "execution_count": null,
   "id": "801d290a",
   "metadata": {},
   "outputs": [],
   "source": []
  },
  {
   "cell_type": "code",
   "execution_count": 95,
   "id": "7686dfc5",
   "metadata": {},
   "outputs": [],
   "source": [
    "# Determine the optimal number of clusters (k) using the Elbow Method\n",
    "distortions = []\n",
    "K = range(1, 10)\n",
    "for k in K:\n",
    "    kmeans = KMeans(n_clusters=k, random_state=42, n_init=10)\n",
    "    kmeans.fit(scaled_data)\n",
    "    distortions.append(kmeans.inertia_)"
   ]
  },
  {
   "cell_type": "code",
   "execution_count": 96,
   "id": "736c01b3",
   "metadata": {},
   "outputs": [
    {
     "data": {
      "image/png": "[encoded data removed]",
      "text/plain": [
       "<Figure size 800x500 with 1 Axes>"
      ]
     },
     "metadata": {},
     "output_type": "display_data"
    }
   ],
   "source": [
    "# Plot the Elbow Method graph\n",
    "plt.figure(figsize=(8, 5))\n",
    "plt.plot(K, distortions, 'bx-')\n",
    "plt.xlabel('Number of Clusters (k)')\n",
    "plt.ylabel('Distortion (Within-cluster Sum of Squares)')\n",
    "plt.title('Elbow Method for Optimal k')\n",
    "plt.show()"
   ]
  },
  {
   "cell_type": "code",
   "execution_count": 97,
   "id": "82cb8f04",
   "metadata": {},
   "outputs": [],
   "source": [
    "# Based on the Elbow Method, select an appropriate value for k (e.g., 3)\n",
    "k = 3"
   ]
  },
  {
   "cell_type": "code",
   "execution_count": 98,
   "id": "2683fa9c",
   "metadata": {},
   "outputs": [],
   "source": [
    "# Perform K-means clustering with the chosen k\n",
    "kmeans = KMeans(n_clusters=k, random_state=42, n_init=10)\n",
    "sales_data['product_segment'] = kmeans.fit_predict(scaled_data)"
   ]
  },
  {
   "cell_type": "code",
   "execution_count": 99,
   "id": "cf6c08d3",
   "metadata": {},
   "outputs": [],
   "source": [
    "# Summary statistics for each cluster\n",
    "cluster_summary = sales_data.groupby('product_segment')[features].mean().reset_index()"
   ]
  },
  {
   "cell_type": "code",
   "execution_count": 100,
   "id": "19799563",
   "metadata": {},
   "outputs": [],
   "source": [
    "# Define Product Segments\n",
    "segments = {}\n",
    "for i in range(k):\n",
    "    segment = {\n",
    "        'segment_id': i + 1,\n",
    "        'characteristics': {\n",
    "            'unit_price': cluster_summary['unit_price'][i],\n",
    "            'unit_profit': cluster_summary['unit_profit'][i],\n",
    "            'quantity': cluster_summary['quantity'][i],\n",
    "            'revenue': cluster_summary['revenue'][i],\n",
    "            'profit': cluster_summary['profit'][i],\n",
    "        }\n",
    "    }\n",
    "    segments[f'Segment {i + 1}'] = segment"
   ]
  },
  {
   "cell_type": "code",
   "execution_count": 101,
   "id": "4e444375",
   "metadata": {},
   "outputs": [],
   "source": [
    "# Visualize the clustering results (2D PCA plot)\n",
    "from sklearn.decomposition import PCA\n",
    "\n",
    "pca = PCA(n_components=2)\n",
    "cluster_data_2d = pca.fit_transform(scaled_data)"
   ]
  },
  {
   "cell_type": "code",
   "execution_count": 102,
   "id": "8986b654",
   "metadata": {},
   "outputs": [],
   "source": [
    "# Add PCA components to the sales_data DataFrame\n",
    "sales_data['pca1'] = cluster_data_2d[:, 0]\n",
    "sales_data['pca2'] = cluster_data_2d[:, 1]"
   ]
  },
  {
   "cell_type": "code",
   "execution_count": 103,
   "id": "901e5049",
   "metadata": {},
   "outputs": [
    {
     "data": {
      "image/png": "[encoded data removed]",
      "text/plain": [
       "<Figure size 2000x600 with 1 Axes>"
      ]
     },
     "metadata": {},
     "output_type": "display_data"
    }
   ],
   "source": [
    "# Visualize the clusters\n",
    "plt.figure(figsize=(20, 6))\n",
    "for i in range(k):\n",
    "    segment_data = sales_data[sales_data['product_segment'] == i]\n",
    "    plt.scatter(segment_data['pca1'], segment_data['pca2'], label=f'Segment {i + 1}')\n",
    "\n",
    "plt.title('2D PCA Plot of Product Segmentation')\n",
    "plt.xlabel('Principal Component 1')\n",
    "plt.ylabel('Principal Component 2')\n",
    "plt.legend()\n",
    "plt.show()"
   ]
  },
  {
   "cell_type": "code",
   "execution_count": 104,
   "id": "1b560fd0",
   "metadata": {},
   "outputs": [],
   "source": [
    "# Calculate cluster centroids\n",
    "cluster_centroids = scaler.inverse_transform(kmeans.cluster_centers_)"
   ]
  },
  {
   "cell_type": "code",
   "execution_count": 105,
   "id": "4ea830ca",
   "metadata": {},
   "outputs": [],
   "source": [
    "# Define the cluster labels you are interested in (e.g., segments 1, 2, and 3)\n",
    "cluster_labels_of_interest = [1, 2, 3]"
   ]
  },
  {
   "cell_type": "code",
   "execution_count": 106,
   "id": "463dc8c8",
   "metadata": {},
   "outputs": [],
   "source": [
    "# Create a DataFrame to hold cluster centroids and feature names\n",
    "centroid_df = pd.DataFrame(cluster_centroids, columns=features)"
   ]
  },
  {
   "cell_type": "code",
   "execution_count": 107,
   "id": "e71ef41a",
   "metadata": {},
   "outputs": [
    {
     "name": "stdout",
     "output_type": "stream",
     "text": [
      "**Segment 1 Centroid Characteristics**\n",
      "- unit_price: 37.04\n",
      "- unit_profit: 15.14\n",
      "- quantity: 1.54\n",
      "- revenue: 55.16\n",
      "- profit: 21.37\n",
      "\n",
      "\n",
      "**Segment 2 Centroid Characteristics**\n",
      "- unit_price: 24.50\n",
      "- unit_profit: 9.19\n",
      "- quantity: 2.13\n",
      "- revenue: 49.07\n",
      "- profit: 17.40\n",
      "\n",
      "\n",
      "**Segment 3 Centroid Characteristics**\n",
      "- unit_price: 34.10\n",
      "- unit_profit: 13.63\n",
      "- quantity: 3.61\n",
      "- revenue: 120.15\n",
      "- profit: 46.65\n",
      "\n",
      "\n"
     ]
    }
   ],
   "source": [
    "# Display the values for the clusters of interest\n",
    "for cluster_label in cluster_labels_of_interest:\n",
    "    print(f\"**Segment {cluster_label} Centroid Characteristics**\")\n",
    "    centroid_values = centroid_df.iloc[cluster_label - 1]  # -1 because cluster labels start from 1\n",
    "    for char, value in centroid_values.items():\n",
    "        print(f\"- {char}: {value:.2f}\")\n",
    "    print(\"\\n\")"
   ]
  }
 ],
 "metadata": {
  "kernelspec": {
   "display_name": "Python 3 (ipykernel)",
   "language": "python",
   "name": "python3"
  },
  "language_info": {
   "codemirror_mode": {
    "name": "ipython",
    "version": 3
   },
   "file_extension": ".py",
   "mimetype": "text/x-python",
   "name": "python",
   "nbconvert_exporter": "python",
   "pygments_lexer": "ipython3",
   "version": "3.11.4"
  }
 },
 "nbformat": 4,
 "nbformat_minor": 5
}
